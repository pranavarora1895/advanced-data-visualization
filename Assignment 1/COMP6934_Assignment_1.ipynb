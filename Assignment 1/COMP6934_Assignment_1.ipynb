{
 "cells": [
  {
   "cell_type": "markdown",
   "id": "e7d11a5d",
   "metadata": {},
   "source": [
    "# Student Details\n",
    "\n",
    "- **Name:** Pranav Arora\n",
    "- **Student #:** 202286040\n",
    "- **Email:** parora@mun.ca\n",
    "- **Course:** COMP6934 Data Visualization\n",
    "- **Assignment:** 1"
   ]
  },
  {
   "cell_type": "markdown",
   "id": "61ded2b8",
   "metadata": {},
   "source": [
    "### Import Libraries"
   ]
  },
  {
   "cell_type": "code",
   "execution_count": 1,
   "id": "07d7b93d",
   "metadata": {},
   "outputs": [],
   "source": [
    "import pandas as pd\n",
    "import matplotlib.pyplot as plt"
   ]
  },
  {
   "cell_type": "markdown",
   "id": "11e08c95",
   "metadata": {},
   "source": [
    "### Fetching data from the given datasets"
   ]
  },
  {
   "cell_type": "code",
   "execution_count": 2,
   "id": "d8775ab2",
   "metadata": {},
   "outputs": [
    {
     "data": {
      "text/html": [
       "<div>\n",
       "<style scoped>\n",
       "    .dataframe tbody tr th:only-of-type {\n",
       "        vertical-align: middle;\n",
       "    }\n",
       "\n",
       "    .dataframe tbody tr th {\n",
       "        vertical-align: top;\n",
       "    }\n",
       "\n",
       "    .dataframe thead th {\n",
       "        text-align: right;\n",
       "    }\n",
       "</style>\n",
       "<table border=\"1\" class=\"dataframe\">\n",
       "  <thead>\n",
       "    <tr style=\"text-align: right;\">\n",
       "      <th></th>\n",
       "      <th>Applications</th>\n",
       "      <th>Time</th>\n",
       "      <th>Value</th>\n",
       "    </tr>\n",
       "  </thead>\n",
       "  <tbody>\n",
       "    <tr>\n",
       "      <th>0</th>\n",
       "      <td>Other</td>\n",
       "      <td>1990</td>\n",
       "      <td>19.433</td>\n",
       "    </tr>\n",
       "    <tr>\n",
       "      <th>1</th>\n",
       "      <td>Other</td>\n",
       "      <td>1991</td>\n",
       "      <td>20.160</td>\n",
       "    </tr>\n",
       "    <tr>\n",
       "      <th>2</th>\n",
       "      <td>Other</td>\n",
       "      <td>1992</td>\n",
       "      <td>21.440</td>\n",
       "    </tr>\n",
       "    <tr>\n",
       "      <th>3</th>\n",
       "      <td>Other</td>\n",
       "      <td>1993</td>\n",
       "      <td>22.333</td>\n",
       "    </tr>\n",
       "    <tr>\n",
       "      <th>4</th>\n",
       "      <td>Other</td>\n",
       "      <td>1994</td>\n",
       "      <td>24.513</td>\n",
       "    </tr>\n",
       "  </tbody>\n",
       "</table>\n",
       "</div>"
      ],
      "text/plain": [
       "  Applications  Time   Value\n",
       "0        Other  1990  19.433\n",
       "1        Other  1991  20.160\n",
       "2        Other  1992  21.440\n",
       "3        Other  1993  22.333\n",
       "4        Other  1994  24.513"
      ]
     },
     "execution_count": 2,
     "metadata": {},
     "output_type": "execute_result"
    }
   ],
   "source": [
    "df_pp = pd.read_csv('plastic-production.csv')\n",
    "df_pp.head()"
   ]
  },
  {
   "cell_type": "code",
   "execution_count": 3,
   "id": "4d715cf2",
   "metadata": {},
   "outputs": [
    {
     "data": {
      "text/html": [
       "<div>\n",
       "<style scoped>\n",
       "    .dataframe tbody tr th:only-of-type {\n",
       "        vertical-align: middle;\n",
       "    }\n",
       "\n",
       "    .dataframe tbody tr th {\n",
       "        vertical-align: top;\n",
       "    }\n",
       "\n",
       "    .dataframe thead th {\n",
       "        text-align: right;\n",
       "    }\n",
       "</style>\n",
       "<table border=\"1\" class=\"dataframe\">\n",
       "  <thead>\n",
       "    <tr style=\"text-align: right;\">\n",
       "      <th></th>\n",
       "      <th>Country or administrative area</th>\n",
       "      <th>Area</th>\n",
       "      <th>Coast length</th>\n",
       "      <th>Rainfall</th>\n",
       "      <th>MPW</th>\n",
       "      <th>ME</th>\n",
       "      <th>Ratio ME/MPW</th>\n",
       "    </tr>\n",
       "  </thead>\n",
       "  <tbody>\n",
       "    <tr>\n",
       "      <th>0</th>\n",
       "      <td>Albania</td>\n",
       "      <td>28486</td>\n",
       "      <td>362</td>\n",
       "      <td>1117</td>\n",
       "      <td>69833</td>\n",
       "      <td>1565</td>\n",
       "      <td>2.24</td>\n",
       "    </tr>\n",
       "    <tr>\n",
       "      <th>1</th>\n",
       "      <td>Algeria</td>\n",
       "      <td>2316559</td>\n",
       "      <td>998</td>\n",
       "      <td>80</td>\n",
       "      <td>764578</td>\n",
       "      <td>5774</td>\n",
       "      <td>0.76</td>\n",
       "    </tr>\n",
       "    <tr>\n",
       "      <th>2</th>\n",
       "      <td>Angola</td>\n",
       "      <td>1247357</td>\n",
       "      <td>1600</td>\n",
       "      <td>1025</td>\n",
       "      <td>236946</td>\n",
       "      <td>860</td>\n",
       "      <td>0.36</td>\n",
       "    </tr>\n",
       "    <tr>\n",
       "      <th>3</th>\n",
       "      <td>Antigua and Barbuda</td>\n",
       "      <td>443</td>\n",
       "      <td>153</td>\n",
       "      <td>996</td>\n",
       "      <td>627</td>\n",
       "      <td>2</td>\n",
       "      <td>0.29</td>\n",
       "    </tr>\n",
       "    <tr>\n",
       "      <th>4</th>\n",
       "      <td>Argentina</td>\n",
       "      <td>2779705</td>\n",
       "      <td>4989</td>\n",
       "      <td>567</td>\n",
       "      <td>465808</td>\n",
       "      <td>4137</td>\n",
       "      <td>0.89</td>\n",
       "    </tr>\n",
       "  </tbody>\n",
       "</table>\n",
       "</div>"
      ],
      "text/plain": [
       "  Country or administrative area     Area  Coast length  Rainfall     MPW  \\\n",
       "0                        Albania    28486           362      1117   69833   \n",
       "1                        Algeria  2316559           998        80  764578   \n",
       "2                         Angola  1247357          1600      1025  236946   \n",
       "3            Antigua and Barbuda      443           153       996     627   \n",
       "4                      Argentina  2779705          4989       567  465808   \n",
       "\n",
       "     ME  Ratio ME/MPW  \n",
       "0  1565          2.24  \n",
       "1  5774          0.76  \n",
       "2   860          0.36  \n",
       "3     2          0.29  \n",
       "4  4137          0.89  "
      ]
     },
     "execution_count": 3,
     "metadata": {},
     "output_type": "execute_result"
    }
   ],
   "source": [
    "df_rp = pd.read_csv('river-plastics.csv')\n",
    "df_rp.head()"
   ]
  },
  {
   "cell_type": "markdown",
   "id": "a5970cfa",
   "metadata": {},
   "source": [
    "### Getting initial data insights in Plastic Production dataset\n",
    "\n",
    "- There are no null values and also got some insight about the data type of each column. \n",
    "- Time data type was changed while parsing dates in read_csv"
   ]
  },
  {
   "cell_type": "code",
   "execution_count": 4,
   "id": "35967591",
   "metadata": {},
   "outputs": [
    {
     "name": "stdout",
     "output_type": "stream",
     "text": [
      "<class 'pandas.core.frame.DataFrame'>\n",
      "RangeIndex: 420 entries, 0 to 419\n",
      "Data columns (total 3 columns):\n",
      " #   Column        Non-Null Count  Dtype  \n",
      "---  ------        --------------  -----  \n",
      " 0   Applications  420 non-null    object \n",
      " 1   Time          420 non-null    int64  \n",
      " 2   Value         420 non-null    float64\n",
      "dtypes: float64(1), int64(1), object(1)\n",
      "memory usage: 10.0+ KB\n"
     ]
    }
   ],
   "source": [
    "df_pp.info()"
   ]
  },
  {
   "cell_type": "markdown",
   "id": "dc033ff9",
   "metadata": {},
   "source": [
    "### Statistical Insights\n",
    "\n",
    "- The Plastic Production dataset seems to be skewed as the major amount of production seems to be at the later years in the dataset (Value: 41.97 in the 3rd quartile)"
   ]
  },
  {
   "cell_type": "code",
   "execution_count": 5,
   "id": "030f8884",
   "metadata": {},
   "outputs": [
    {
     "data": {
      "text/html": [
       "<div>\n",
       "<style scoped>\n",
       "    .dataframe tbody tr th:only-of-type {\n",
       "        vertical-align: middle;\n",
       "    }\n",
       "\n",
       "    .dataframe tbody tr th {\n",
       "        vertical-align: top;\n",
       "    }\n",
       "\n",
       "    .dataframe thead th {\n",
       "        text-align: right;\n",
       "    }\n",
       "</style>\n",
       "<table border=\"1\" class=\"dataframe\">\n",
       "  <thead>\n",
       "    <tr style=\"text-align: right;\">\n",
       "      <th></th>\n",
       "      <th>Time</th>\n",
       "      <th>Value</th>\n",
       "    </tr>\n",
       "  </thead>\n",
       "  <tbody>\n",
       "    <tr>\n",
       "      <th>count</th>\n",
       "      <td>420.000000</td>\n",
       "      <td>420.000000</td>\n",
       "    </tr>\n",
       "    <tr>\n",
       "      <th>mean</th>\n",
       "      <td>2004.500000</td>\n",
       "      <td>40.958717</td>\n",
       "    </tr>\n",
       "    <tr>\n",
       "      <th>std</th>\n",
       "      <td>8.665764</td>\n",
       "      <td>78.077021</td>\n",
       "    </tr>\n",
       "    <tr>\n",
       "      <th>min</th>\n",
       "      <td>1990.000000</td>\n",
       "      <td>0.007000</td>\n",
       "    </tr>\n",
       "    <tr>\n",
       "      <th>25%</th>\n",
       "      <td>1997.000000</td>\n",
       "      <td>1.750750</td>\n",
       "    </tr>\n",
       "    <tr>\n",
       "      <th>50%</th>\n",
       "      <td>2004.500000</td>\n",
       "      <td>14.213000</td>\n",
       "    </tr>\n",
       "    <tr>\n",
       "      <th>75%</th>\n",
       "      <td>2012.000000</td>\n",
       "      <td>41.974750</td>\n",
       "    </tr>\n",
       "    <tr>\n",
       "      <th>max</th>\n",
       "      <td>2019.000000</td>\n",
       "      <td>459.746000</td>\n",
       "    </tr>\n",
       "  </tbody>\n",
       "</table>\n",
       "</div>"
      ],
      "text/plain": [
       "              Time       Value\n",
       "count   420.000000  420.000000\n",
       "mean   2004.500000   40.958717\n",
       "std       8.665764   78.077021\n",
       "min    1990.000000    0.007000\n",
       "25%    1997.000000    1.750750\n",
       "50%    2004.500000   14.213000\n",
       "75%    2012.000000   41.974750\n",
       "max    2019.000000  459.746000"
      ]
     },
     "execution_count": 5,
     "metadata": {},
     "output_type": "execute_result"
    }
   ],
   "source": [
    "df_pp.describe()"
   ]
  },
  {
   "cell_type": "markdown",
   "id": "fc1b83be",
   "metadata": {},
   "source": [
    "Since _Applications_ column has object data type, I used `df.unique()` and `df.nunique()` to know about the sectors' column "
   ]
  },
  {
   "cell_type": "code",
   "execution_count": 6,
   "id": "6f762147",
   "metadata": {},
   "outputs": [
    {
     "data": {
      "text/plain": [
       "14"
      ]
     },
     "execution_count": 6,
     "metadata": {},
     "output_type": "execute_result"
    }
   ],
   "source": [
    "df_pp['Applications'].nunique()"
   ]
  },
  {
   "cell_type": "code",
   "execution_count": 7,
   "id": "fa1e9b50",
   "metadata": {},
   "outputs": [
    {
     "data": {
      "text/plain": [
       "array(['Other', 'Packaging', 'Consumer & institutional Products',\n",
       "       'Building & construction', 'Electrical/electronics',\n",
       "       'Transportation - other', 'Marine coatings',\n",
       "       'Industrial/machinery', 'Personal care products',\n",
       "       'Textile sector - clothing', 'Textile sector - others',\n",
       "       'Road marking', 'Transportation - tyres', 'Total'], dtype=object)"
      ]
     },
     "execution_count": 7,
     "metadata": {},
     "output_type": "execute_result"
    }
   ],
   "source": [
    "df_pp['Applications'].unique()"
   ]
  },
  {
   "cell_type": "markdown",
   "id": "481d66e9",
   "metadata": {},
   "source": [
    "- The Total is included in the Applications sector so we will exclude that and then feed it into groupby API."
   ]
  },
  {
   "cell_type": "code",
   "execution_count": 8,
   "id": "fcd3ae9c",
   "metadata": {},
   "outputs": [
    {
     "data": {
      "text/html": [
       "<div>\n",
       "<style scoped>\n",
       "    .dataframe tbody tr th:only-of-type {\n",
       "        vertical-align: middle;\n",
       "    }\n",
       "\n",
       "    .dataframe tbody tr th {\n",
       "        vertical-align: top;\n",
       "    }\n",
       "\n",
       "    .dataframe thead th {\n",
       "        text-align: right;\n",
       "    }\n",
       "</style>\n",
       "<table border=\"1\" class=\"dataframe\">\n",
       "  <thead>\n",
       "    <tr style=\"text-align: right;\">\n",
       "      <th></th>\n",
       "      <th>Applications</th>\n",
       "      <th>Time</th>\n",
       "      <th>Value</th>\n",
       "    </tr>\n",
       "  </thead>\n",
       "  <tbody>\n",
       "    <tr>\n",
       "      <th>0</th>\n",
       "      <td>Other</td>\n",
       "      <td>1990</td>\n",
       "      <td>19.433</td>\n",
       "    </tr>\n",
       "    <tr>\n",
       "      <th>1</th>\n",
       "      <td>Other</td>\n",
       "      <td>1991</td>\n",
       "      <td>20.160</td>\n",
       "    </tr>\n",
       "    <tr>\n",
       "      <th>2</th>\n",
       "      <td>Other</td>\n",
       "      <td>1992</td>\n",
       "      <td>21.440</td>\n",
       "    </tr>\n",
       "    <tr>\n",
       "      <th>3</th>\n",
       "      <td>Other</td>\n",
       "      <td>1993</td>\n",
       "      <td>22.333</td>\n",
       "    </tr>\n",
       "    <tr>\n",
       "      <th>4</th>\n",
       "      <td>Other</td>\n",
       "      <td>1994</td>\n",
       "      <td>24.513</td>\n",
       "    </tr>\n",
       "    <tr>\n",
       "      <th>...</th>\n",
       "      <td>...</td>\n",
       "      <td>...</td>\n",
       "      <td>...</td>\n",
       "    </tr>\n",
       "    <tr>\n",
       "      <th>385</th>\n",
       "      <td>Transportation - tyres</td>\n",
       "      <td>2015</td>\n",
       "      <td>7.100</td>\n",
       "    </tr>\n",
       "    <tr>\n",
       "      <th>386</th>\n",
       "      <td>Transportation - tyres</td>\n",
       "      <td>2016</td>\n",
       "      <td>7.164</td>\n",
       "    </tr>\n",
       "    <tr>\n",
       "      <th>387</th>\n",
       "      <td>Transportation - tyres</td>\n",
       "      <td>2017</td>\n",
       "      <td>7.300</td>\n",
       "    </tr>\n",
       "    <tr>\n",
       "      <th>388</th>\n",
       "      <td>Transportation - tyres</td>\n",
       "      <td>2018</td>\n",
       "      <td>7.522</td>\n",
       "    </tr>\n",
       "    <tr>\n",
       "      <th>389</th>\n",
       "      <td>Transportation - tyres</td>\n",
       "      <td>2019</td>\n",
       "      <td>7.734</td>\n",
       "    </tr>\n",
       "  </tbody>\n",
       "</table>\n",
       "<p>390 rows × 3 columns</p>\n",
       "</div>"
      ],
      "text/plain": [
       "               Applications  Time   Value\n",
       "0                     Other  1990  19.433\n",
       "1                     Other  1991  20.160\n",
       "2                     Other  1992  21.440\n",
       "3                     Other  1993  22.333\n",
       "4                     Other  1994  24.513\n",
       "..                      ...   ...     ...\n",
       "385  Transportation - tyres  2015   7.100\n",
       "386  Transportation - tyres  2016   7.164\n",
       "387  Transportation - tyres  2017   7.300\n",
       "388  Transportation - tyres  2018   7.522\n",
       "389  Transportation - tyres  2019   7.734\n",
       "\n",
       "[390 rows x 3 columns]"
      ]
     },
     "execution_count": 8,
     "metadata": {},
     "output_type": "execute_result"
    }
   ],
   "source": [
    "df_yly_sec_prod = df_pp.loc[df_pp['Applications'] != 'Total']\n",
    "df_yly_sec_prod"
   ]
  },
  {
   "cell_type": "markdown",
   "id": "d4c8c40a",
   "metadata": {},
   "source": [
    "## Answer 1\n",
    "\n",
    "- Using groupby to calculate the total production of each sector yearly"
   ]
  },
  {
   "cell_type": "code",
   "execution_count": 9,
   "id": "fe6e750b",
   "metadata": {},
   "outputs": [
    {
     "data": {
      "text/html": [
       "<div>\n",
       "<style scoped>\n",
       "    .dataframe tbody tr th:only-of-type {\n",
       "        vertical-align: middle;\n",
       "    }\n",
       "\n",
       "    .dataframe tbody tr th {\n",
       "        vertical-align: top;\n",
       "    }\n",
       "\n",
       "    .dataframe thead th {\n",
       "        text-align: right;\n",
       "    }\n",
       "</style>\n",
       "<table border=\"1\" class=\"dataframe\">\n",
       "  <thead>\n",
       "    <tr style=\"text-align: right;\">\n",
       "      <th></th>\n",
       "      <th>Applications</th>\n",
       "      <th>Time</th>\n",
       "      <th>Value</th>\n",
       "    </tr>\n",
       "  </thead>\n",
       "  <tbody>\n",
       "    <tr>\n",
       "      <th>0</th>\n",
       "      <td>Building &amp; construction</td>\n",
       "      <td>1990</td>\n",
       "      <td>21.872</td>\n",
       "    </tr>\n",
       "    <tr>\n",
       "      <th>1</th>\n",
       "      <td>Building &amp; construction</td>\n",
       "      <td>1991</td>\n",
       "      <td>22.684</td>\n",
       "    </tr>\n",
       "    <tr>\n",
       "      <th>2</th>\n",
       "      <td>Building &amp; construction</td>\n",
       "      <td>1992</td>\n",
       "      <td>24.119</td>\n",
       "    </tr>\n",
       "    <tr>\n",
       "      <th>3</th>\n",
       "      <td>Building &amp; construction</td>\n",
       "      <td>1993</td>\n",
       "      <td>25.116</td>\n",
       "    </tr>\n",
       "    <tr>\n",
       "      <th>4</th>\n",
       "      <td>Building &amp; construction</td>\n",
       "      <td>1994</td>\n",
       "      <td>27.558</td>\n",
       "    </tr>\n",
       "    <tr>\n",
       "      <th>...</th>\n",
       "      <td>...</td>\n",
       "      <td>...</td>\n",
       "      <td>...</td>\n",
       "    </tr>\n",
       "    <tr>\n",
       "      <th>385</th>\n",
       "      <td>Transportation - tyres</td>\n",
       "      <td>2015</td>\n",
       "      <td>7.100</td>\n",
       "    </tr>\n",
       "    <tr>\n",
       "      <th>386</th>\n",
       "      <td>Transportation - tyres</td>\n",
       "      <td>2016</td>\n",
       "      <td>7.164</td>\n",
       "    </tr>\n",
       "    <tr>\n",
       "      <th>387</th>\n",
       "      <td>Transportation - tyres</td>\n",
       "      <td>2017</td>\n",
       "      <td>7.300</td>\n",
       "    </tr>\n",
       "    <tr>\n",
       "      <th>388</th>\n",
       "      <td>Transportation - tyres</td>\n",
       "      <td>2018</td>\n",
       "      <td>7.522</td>\n",
       "    </tr>\n",
       "    <tr>\n",
       "      <th>389</th>\n",
       "      <td>Transportation - tyres</td>\n",
       "      <td>2019</td>\n",
       "      <td>7.734</td>\n",
       "    </tr>\n",
       "  </tbody>\n",
       "</table>\n",
       "<p>390 rows × 3 columns</p>\n",
       "</div>"
      ],
      "text/plain": [
       "                Applications  Time   Value\n",
       "0    Building & construction  1990  21.872\n",
       "1    Building & construction  1991  22.684\n",
       "2    Building & construction  1992  24.119\n",
       "3    Building & construction  1993  25.116\n",
       "4    Building & construction  1994  27.558\n",
       "..                       ...   ...     ...\n",
       "385   Transportation - tyres  2015   7.100\n",
       "386   Transportation - tyres  2016   7.164\n",
       "387   Transportation - tyres  2017   7.300\n",
       "388   Transportation - tyres  2018   7.522\n",
       "389   Transportation - tyres  2019   7.734\n",
       "\n",
       "[390 rows x 3 columns]"
      ]
     },
     "execution_count": 9,
     "metadata": {},
     "output_type": "execute_result"
    }
   ],
   "source": [
    "df_yly_sec_prod = df_yly_sec_prod.groupby(['Applications', 'Time']).sum().reset_index()\n",
    "df_yly_sec_prod"
   ]
  },
  {
   "cell_type": "code",
   "execution_count": 10,
   "id": "697f6aa9",
   "metadata": {},
   "outputs": [
    {
     "data": {
      "text/plain": [
       "8601.332"
      ]
     },
     "execution_count": 10,
     "metadata": {},
     "output_type": "execute_result"
    }
   ],
   "source": [
    "df_yly_sec_prod['Value'].sum()"
   ]
  },
  {
   "cell_type": "markdown",
   "id": "95c3bcf8",
   "metadata": {},
   "source": [
    "- Checking the sum of all Totals from the original `df_pp` dataset."
   ]
  },
  {
   "cell_type": "code",
   "execution_count": 11,
   "id": "0728dcc8",
   "metadata": {},
   "outputs": [
    {
     "data": {
      "text/plain": [
       "8601.329"
      ]
     },
     "execution_count": 11,
     "metadata": {},
     "output_type": "execute_result"
    }
   ],
   "source": [
    "df_pp.loc[df_pp['Applications'] == 'Total'].sum().Value"
   ]
  },
  {
   "cell_type": "markdown",
   "id": "c456fa4d",
   "metadata": {},
   "source": [
    "- Confirmation by equating the total production from `df_yly_sec_prod` and original `df_pp`"
   ]
  },
  {
   "cell_type": "code",
   "execution_count": 12,
   "id": "dab281b7",
   "metadata": {},
   "outputs": [
    {
     "data": {
      "text/plain": [
       "0.0030000000006111804"
      ]
     },
     "execution_count": 12,
     "metadata": {},
     "output_type": "execute_result"
    }
   ],
   "source": [
    "df_yly_sec_prod['Value'].sum() - df_pp.loc[df_pp['Applications'] == 'Total'].sum().Value"
   ]
  },
  {
   "cell_type": "markdown",
   "id": "65dc8dc8",
   "metadata": {},
   "source": [
    "## Answer 2"
   ]
  },
  {
   "cell_type": "markdown",
   "id": "6dd2068f",
   "metadata": {},
   "source": [
    "- Time (x) would be same for all the sectors/Applications\n",
    "- Value (y) is filtered based on different sectors/Applications\n",
    "\n",
    "`plt.plot(x,y, label, color, linestyle)`\n",
    "\n",
    "- Used Functional Interface"
   ]
  },
  {
   "cell_type": "code",
   "execution_count": 13,
   "id": "7c0c4bc1",
   "metadata": {},
   "outputs": [
    {
     "data": {
      "image/png": "[encoded data removed]",
      "text/plain": [
       "<Figure size 640x480 with 1 Axes>"
      ]
     },
     "metadata": {},
     "output_type": "display_data"
    }
   ],
   "source": [
    "x = df_pp[df_pp.Applications == 'Total']['Time']\n",
    "\n",
    "plt.plot(x,df_pp[df_pp.Applications == 'Total']['Value'], label='Total', color='black')\n",
    "plt.plot(x,df_pp[df_pp.Applications == 'Building & construction']['Value'], label='Building & construction', color='blue')\n",
    "plt.plot(x,df_pp[df_pp.Applications == 'Packaging']['Value'], label='Packaging', color='purple')\n",
    "plt.plot(x,df_pp[df_pp.Applications == 'Other']['Value'], label='Other', color='red')\n",
    "plt.plot(x,df_pp[df_pp.Applications == 'Consumer & institutional Products']['Value'], color='grey', linestyle=':')\n",
    "plt.plot(x,df_pp[df_pp.Applications == 'Electrical/electronics']['Value'], color='grey',linestyle=':')\n",
    "plt.plot(x,df_pp[df_pp.Applications == 'Transportation - other']['Value'], color='grey',linestyle=':')\n",
    "plt.plot(x,df_pp[df_pp.Applications == 'Marine coatings']['Value'], color='grey',linestyle=':')\n",
    "plt.plot(x,df_pp[df_pp.Applications == 'Industrial/machinery']['Value'], color='grey',linestyle=':')\n",
    "plt.plot(x,df_pp[df_pp.Applications == 'Personal care products']['Value'], color='grey',linestyle=':')\n",
    "plt.plot(x,df_pp[df_pp.Applications == 'Textile sector - clothing']['Value'], color='grey',linestyle=':')\n",
    "plt.plot(x,df_pp[df_pp.Applications == 'Textile sector - others']['Value'], color='grey',linestyle=':')\n",
    "plt.plot(x,df_pp[df_pp.Applications == 'Road marking']['Value'], color='grey',linestyle=':')\n",
    "plt.plot(x,df_pp[df_pp.Applications == 'Transportation - tyres']['Value'], color='grey',linestyle=':')\n",
    "\n",
    "plt.title('Global Plastic Production')\n",
    "plt.xlabel('Year')\n",
    "plt.ylabel('Million Tons')\n",
    "plt.legend(loc='upper left')\n",
    "plt.show()"
   ]
  },
  {
   "cell_type": "markdown",
   "id": "86dadfbe",
   "metadata": {},
   "source": [
    "### Prepping up for Answer 3\n",
    "\n",
    "- Getting to know `river_plastics.csv` dataset\n",
    "- Used `df_rp.describe` to know the distribution of data and `df_rp.info()` to know the data type and null values in the dataset"
   ]
  },
  {
   "cell_type": "code",
   "execution_count": 14,
   "id": "2cdb69ce",
   "metadata": {},
   "outputs": [
    {
     "data": {
      "text/html": [
       "<div>\n",
       "<style scoped>\n",
       "    .dataframe tbody tr th:only-of-type {\n",
       "        vertical-align: middle;\n",
       "    }\n",
       "\n",
       "    .dataframe tbody tr th {\n",
       "        vertical-align: top;\n",
       "    }\n",
       "\n",
       "    .dataframe thead th {\n",
       "        text-align: right;\n",
       "    }\n",
       "</style>\n",
       "<table border=\"1\" class=\"dataframe\">\n",
       "  <thead>\n",
       "    <tr style=\"text-align: right;\">\n",
       "      <th></th>\n",
       "      <th>Country or administrative area</th>\n",
       "      <th>Area</th>\n",
       "      <th>Coast length</th>\n",
       "      <th>Rainfall</th>\n",
       "      <th>MPW</th>\n",
       "      <th>ME</th>\n",
       "      <th>Ratio ME/MPW</th>\n",
       "    </tr>\n",
       "  </thead>\n",
       "  <tbody>\n",
       "    <tr>\n",
       "      <th>0</th>\n",
       "      <td>Albania</td>\n",
       "      <td>28486</td>\n",
       "      <td>362</td>\n",
       "      <td>1117</td>\n",
       "      <td>69833</td>\n",
       "      <td>1565</td>\n",
       "      <td>2.24</td>\n",
       "    </tr>\n",
       "    <tr>\n",
       "      <th>1</th>\n",
       "      <td>Algeria</td>\n",
       "      <td>2316559</td>\n",
       "      <td>998</td>\n",
       "      <td>80</td>\n",
       "      <td>764578</td>\n",
       "      <td>5774</td>\n",
       "      <td>0.76</td>\n",
       "    </tr>\n",
       "    <tr>\n",
       "      <th>2</th>\n",
       "      <td>Angola</td>\n",
       "      <td>1247357</td>\n",
       "      <td>1600</td>\n",
       "      <td>1025</td>\n",
       "      <td>236946</td>\n",
       "      <td>860</td>\n",
       "      <td>0.36</td>\n",
       "    </tr>\n",
       "    <tr>\n",
       "      <th>3</th>\n",
       "      <td>Antigua and Barbuda</td>\n",
       "      <td>443</td>\n",
       "      <td>153</td>\n",
       "      <td>996</td>\n",
       "      <td>627</td>\n",
       "      <td>2</td>\n",
       "      <td>0.29</td>\n",
       "    </tr>\n",
       "    <tr>\n",
       "      <th>4</th>\n",
       "      <td>Argentina</td>\n",
       "      <td>2779705</td>\n",
       "      <td>4989</td>\n",
       "      <td>567</td>\n",
       "      <td>465808</td>\n",
       "      <td>4137</td>\n",
       "      <td>0.89</td>\n",
       "    </tr>\n",
       "    <tr>\n",
       "      <th>...</th>\n",
       "      <td>...</td>\n",
       "      <td>...</td>\n",
       "      <td>...</td>\n",
       "      <td>...</td>\n",
       "      <td>...</td>\n",
       "      <td>...</td>\n",
       "      <td>...</td>\n",
       "    </tr>\n",
       "    <tr>\n",
       "      <th>158</th>\n",
       "      <td>Venezuela</td>\n",
       "      <td>912557</td>\n",
       "      <td>2800</td>\n",
       "      <td>1875</td>\n",
       "      <td>671431</td>\n",
       "      <td>5988</td>\n",
       "      <td>0.89</td>\n",
       "    </tr>\n",
       "    <tr>\n",
       "      <th>159</th>\n",
       "      <td>Vietnam</td>\n",
       "      <td>327732</td>\n",
       "      <td>3444</td>\n",
       "      <td>1772</td>\n",
       "      <td>1112790</td>\n",
       "      <td>28221</td>\n",
       "      <td>2.54</td>\n",
       "    </tr>\n",
       "    <tr>\n",
       "      <th>160</th>\n",
       "      <td>Western Sahara</td>\n",
       "      <td>266830</td>\n",
       "      <td>111</td>\n",
       "      <td>35</td>\n",
       "      <td>4114</td>\n",
       "      <td>38</td>\n",
       "      <td>0.91</td>\n",
       "    </tr>\n",
       "    <tr>\n",
       "      <th>161</th>\n",
       "      <td>Yemen</td>\n",
       "      <td>419900</td>\n",
       "      <td>1906</td>\n",
       "      <td>112</td>\n",
       "      <td>291737</td>\n",
       "      <td>252</td>\n",
       "      <td>0.09</td>\n",
       "    </tr>\n",
       "    <tr>\n",
       "      <th>162</th>\n",
       "      <td>Zimbabwe</td>\n",
       "      <td>390648</td>\n",
       "      <td>1906</td>\n",
       "      <td>665</td>\n",
       "      <td>524865</td>\n",
       "      <td>0</td>\n",
       "      <td>0.00</td>\n",
       "    </tr>\n",
       "  </tbody>\n",
       "</table>\n",
       "<p>163 rows × 7 columns</p>\n",
       "</div>"
      ],
      "text/plain": [
       "    Country or administrative area     Area  Coast length  Rainfall      MPW  \\\n",
       "0                          Albania    28486           362      1117    69833   \n",
       "1                          Algeria  2316559           998        80   764578   \n",
       "2                           Angola  1247357          1600      1025   236946   \n",
       "3              Antigua and Barbuda      443           153       996      627   \n",
       "4                        Argentina  2779705          4989       567   465808   \n",
       "..                             ...      ...           ...       ...      ...   \n",
       "158                      Venezuela   912557          2800      1875   671431   \n",
       "159                        Vietnam   327732          3444      1772  1112790   \n",
       "160                 Western Sahara   266830           111        35     4114   \n",
       "161                          Yemen   419900          1906       112   291737   \n",
       "162                       Zimbabwe   390648          1906       665   524865   \n",
       "\n",
       "        ME  Ratio ME/MPW  \n",
       "0     1565          2.24  \n",
       "1     5774          0.76  \n",
       "2      860          0.36  \n",
       "3        2          0.29  \n",
       "4     4137          0.89  \n",
       "..     ...           ...  \n",
       "158   5988          0.89  \n",
       "159  28221          2.54  \n",
       "160     38          0.91  \n",
       "161    252          0.09  \n",
       "162      0          0.00  \n",
       "\n",
       "[163 rows x 7 columns]"
      ]
     },
     "execution_count": 14,
     "metadata": {},
     "output_type": "execute_result"
    }
   ],
   "source": [
    "df_rp"
   ]
  },
  {
   "cell_type": "code",
   "execution_count": 15,
   "id": "70343fcf",
   "metadata": {},
   "outputs": [
    {
     "data": {
      "text/html": [
       "<div>\n",
       "<style scoped>\n",
       "    .dataframe tbody tr th:only-of-type {\n",
       "        vertical-align: middle;\n",
       "    }\n",
       "\n",
       "    .dataframe tbody tr th {\n",
       "        vertical-align: top;\n",
       "    }\n",
       "\n",
       "    .dataframe thead th {\n",
       "        text-align: right;\n",
       "    }\n",
       "</style>\n",
       "<table border=\"1\" class=\"dataframe\">\n",
       "  <thead>\n",
       "    <tr style=\"text-align: right;\">\n",
       "      <th></th>\n",
       "      <th>Area</th>\n",
       "      <th>Coast length</th>\n",
       "      <th>Rainfall</th>\n",
       "      <th>MPW</th>\n",
       "      <th>ME</th>\n",
       "      <th>Ratio ME/MPW</th>\n",
       "    </tr>\n",
       "  </thead>\n",
       "  <tbody>\n",
       "    <tr>\n",
       "      <th>count</th>\n",
       "      <td>1.630000e+02</td>\n",
       "      <td>163.000000</td>\n",
       "      <td>163.000000</td>\n",
       "      <td>1.630000e+02</td>\n",
       "      <td>163.000000</td>\n",
       "      <td>163.000000</td>\n",
       "    </tr>\n",
       "    <tr>\n",
       "      <th>mean</th>\n",
       "      <td>7.277222e+05</td>\n",
       "      <td>4315.852761</td>\n",
       "      <td>1235.957055</td>\n",
       "      <td>3.789798e+05</td>\n",
       "      <td>6008.944785</td>\n",
       "      <td>2.370798</td>\n",
       "    </tr>\n",
       "    <tr>\n",
       "      <th>std</th>\n",
       "      <td>2.054834e+06</td>\n",
       "      <td>17164.869315</td>\n",
       "      <td>834.378273</td>\n",
       "      <td>1.469056e+06</td>\n",
       "      <td>30954.200425</td>\n",
       "      <td>3.364537</td>\n",
       "    </tr>\n",
       "    <tr>\n",
       "      <th>min</th>\n",
       "      <td>8.000000e+00</td>\n",
       "      <td>4.000000</td>\n",
       "      <td>20.000000</td>\n",
       "      <td>3.000000e+00</td>\n",
       "      <td>0.000000</td>\n",
       "      <td>0.000000</td>\n",
       "    </tr>\n",
       "    <tr>\n",
       "      <th>25%</th>\n",
       "      <td>1.434650e+04</td>\n",
       "      <td>283.500000</td>\n",
       "      <td>597.500000</td>\n",
       "      <td>1.716500e+03</td>\n",
       "      <td>8.000000</td>\n",
       "      <td>0.175000</td>\n",
       "    </tr>\n",
       "    <tr>\n",
       "      <th>50%</th>\n",
       "      <td>1.113000e+05</td>\n",
       "      <td>648.000000</td>\n",
       "      <td>1090.000000</td>\n",
       "      <td>2.169300e+04</td>\n",
       "      <td>235.000000</td>\n",
       "      <td>0.960000</td>\n",
       "    </tr>\n",
       "    <tr>\n",
       "      <th>75%</th>\n",
       "      <td>4.557010e+05</td>\n",
       "      <td>2442.000000</td>\n",
       "      <td>1795.000000</td>\n",
       "      <td>2.154820e+05</td>\n",
       "      <td>1515.000000</td>\n",
       "      <td>3.205000</td>\n",
       "    </tr>\n",
       "    <tr>\n",
       "      <th>max</th>\n",
       "      <td>1.694540e+07</td>\n",
       "      <td>202080.000000</td>\n",
       "      <td>3821.000000</td>\n",
       "      <td>1.299410e+07</td>\n",
       "      <td>356371.000000</td>\n",
       "      <td>19.360000</td>\n",
       "    </tr>\n",
       "  </tbody>\n",
       "</table>\n",
       "</div>"
      ],
      "text/plain": [
       "               Area   Coast length     Rainfall           MPW             ME  \\\n",
       "count  1.630000e+02     163.000000   163.000000  1.630000e+02     163.000000   \n",
       "mean   7.277222e+05    4315.852761  1235.957055  3.789798e+05    6008.944785   \n",
       "std    2.054834e+06   17164.869315   834.378273  1.469056e+06   30954.200425   \n",
       "min    8.000000e+00       4.000000    20.000000  3.000000e+00       0.000000   \n",
       "25%    1.434650e+04     283.500000   597.500000  1.716500e+03       8.000000   \n",
       "50%    1.113000e+05     648.000000  1090.000000  2.169300e+04     235.000000   \n",
       "75%    4.557010e+05    2442.000000  1795.000000  2.154820e+05    1515.000000   \n",
       "max    1.694540e+07  202080.000000  3821.000000  1.299410e+07  356371.000000   \n",
       "\n",
       "       Ratio ME/MPW  \n",
       "count    163.000000  \n",
       "mean       2.370798  \n",
       "std        3.364537  \n",
       "min        0.000000  \n",
       "25%        0.175000  \n",
       "50%        0.960000  \n",
       "75%        3.205000  \n",
       "max       19.360000  "
      ]
     },
     "execution_count": 15,
     "metadata": {},
     "output_type": "execute_result"
    }
   ],
   "source": [
    "df_rp.describe()"
   ]
  },
  {
   "cell_type": "markdown",
   "id": "8d13afe1",
   "metadata": {},
   "source": [
    "- The data seem to be skewed"
   ]
  },
  {
   "cell_type": "code",
   "execution_count": 16,
   "id": "0867dae9",
   "metadata": {},
   "outputs": [
    {
     "name": "stdout",
     "output_type": "stream",
     "text": [
      "<class 'pandas.core.frame.DataFrame'>\n",
      "RangeIndex: 163 entries, 0 to 162\n",
      "Data columns (total 7 columns):\n",
      " #   Column                          Non-Null Count  Dtype  \n",
      "---  ------                          --------------  -----  \n",
      " 0   Country or administrative area  163 non-null    object \n",
      " 1   Area                            163 non-null    int64  \n",
      " 2   Coast length                    163 non-null    int64  \n",
      " 3   Rainfall                        163 non-null    int64  \n",
      " 4   MPW                             163 non-null    int64  \n",
      " 5   ME                              163 non-null    int64  \n",
      " 6   Ratio ME/MPW                    163 non-null    float64\n",
      "dtypes: float64(1), int64(5), object(1)\n",
      "memory usage: 9.0+ KB\n"
     ]
    }
   ],
   "source": [
    "df_rp.info()"
   ]
  },
  {
   "cell_type": "markdown",
   "id": "ed3e73f6",
   "metadata": {},
   "source": [
    "## Answer 3\n",
    "\n",
    "- Used Object Oriented API for Answer 3"
   ]
  },
  {
   "cell_type": "code",
   "execution_count": 17,
   "id": "4bd9a120",
   "metadata": {},
   "outputs": [
    {
     "data": {
      "image/png": "[encoded data removed]",
      "text/plain": [
       "<Figure size 640x480 with 2 Axes>"
      ]
     },
     "metadata": {},
     "output_type": "display_data"
    }
   ],
   "source": [
    "fig, ax = plt.subplots()\n",
    "\n",
    "x_coast_to_area = df_rp['Coast length']/df_rp['Area'] # Getting the ratio of coast length to area\n",
    "\n",
    "# x=ratio of coast length to area, y=ratio of ME/MPW, color map= rainfall\n",
    "rp_scatter = ax.scatter(x_coast_to_area, df_rp['Ratio ME/MPW'], c=df_rp['Rainfall'])\n",
    "fig.colorbar(rp_scatter, ax=ax, label=\"Rainfall [mm/year]\")\n",
    "\n",
    "# Setting up the labels\n",
    "ax.set_xlabel(\"Ratio of coastal length to area\")\n",
    "ax.set_ylabel(\"Plastic waste in oceans (% of total plastic waste)\")\n",
    "ax.set_title(\"Drivers of Plastic Pollution in the Oceans\")\n",
    "\n",
    "# Converting the scale to log since the distribution is skewed\n",
    "ax.loglog()\n",
    "\n",
    "plt.show()"
   ]
  },
  {
   "cell_type": "markdown",
   "id": "af56c875",
   "metadata": {},
   "source": [
    "### Attributions\n",
    "\n",
    "- Pandas Groupby: https://pandas.pydata.org/docs/reference/api/pandas.DataFrame.groupby.html\n",
    "- Pandas read_csv and parse_dates: https://pandas.pydata.org/docs/reference/api/pandas.read_csv.html#pandas.read_csv\n",
    "- Functional API Matplotlib: lecture5.ipynb\n",
    "- Object Oriented API Matplotlib: lecture6.ipynb\n",
    "- Scatter plots: https://jakevdp.github.io/mpl_tutorial/tutorial_pages/tut3.html"
   ]
  },
  {
   "cell_type": "code",
   "execution_count": null,
   "id": "1b1a4bb9",
   "metadata": {},
   "outputs": [],
   "source": []
  }
 ],
 "metadata": {
  "kernelspec": {
   "display_name": "Python 3 (ipykernel)",
   "language": "python",
   "name": "python3"
  },
  "language_info": {
   "codemirror_mode": {
    "name": "ipython",
    "version": 3
   },
   "file_extension": ".py",
   "mimetype": "text/x-python",
   "name": "python",
   "nbconvert_exporter": "python",
   "pygments_lexer": "ipython3",
   "version": "3.12.1"
  }
 },
 "nbformat": 4,
 "nbformat_minor": 5
}
