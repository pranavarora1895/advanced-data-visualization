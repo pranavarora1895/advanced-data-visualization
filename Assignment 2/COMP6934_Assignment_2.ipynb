{
 "cells": [
  {
   "cell_type": "markdown",
   "metadata": {},
   "source": [
    "### Importing Libraries"
   ]
  },
  {
   "cell_type": "code",
   "execution_count": 1,
   "metadata": {},
   "outputs": [],
   "source": [
    "import pandas as pd\n",
    "import matplotlib.pyplot as plt\n",
    "import numpy as np"
   ]
  },
  {
   "cell_type": "markdown",
   "metadata": {},
   "source": [
    "### Defining Color Constants"
   ]
  },
  {
   "cell_type": "code",
   "execution_count": 2,
   "metadata": {},
   "outputs": [],
   "source": [
    "BLUE_DARKEST = '#051b2c'\n",
    "BLUE_DARK = '#0c3759'\n",
    "BLUE_MEDIUM = '#4789be'\n",
    "BLUE_LIGHT = '#6ebeec'\n",
    "BLUE_LIGHTEST = '#95cef2'\n",
    "OCHRE_LIGHT = '#f3e2c0'"
   ]
  },
  {
   "cell_type": "markdown",
   "metadata": {},
   "source": [
    "### Reading Data from `sleep.csv` file"
   ]
  },
  {
   "cell_type": "code",
   "execution_count": 3,
   "metadata": {},
   "outputs": [
    {
     "data": {
      "text/html": [
       "<div>\n",
       "<style scoped>\n",
       "    .dataframe tbody tr th:only-of-type {\n",
       "        vertical-align: middle;\n",
       "    }\n",
       "\n",
       "    .dataframe tbody tr th {\n",
       "        vertical-align: top;\n",
       "    }\n",
       "\n",
       "    .dataframe thead th {\n",
       "        text-align: right;\n",
       "    }\n",
       "</style>\n",
       "<table border=\"1\" class=\"dataframe\">\n",
       "  <thead>\n",
       "    <tr style=\"text-align: right;\">\n",
       "      <th></th>\n",
       "      <th>Age group</th>\n",
       "      <th>Min age</th>\n",
       "      <th>Max age</th>\n",
       "      <th>Not recommended lower</th>\n",
       "      <th>Approriate lower</th>\n",
       "      <th>Recommended lower</th>\n",
       "      <th>Recommended upper</th>\n",
       "      <th>Appropriate upper</th>\n",
       "      <th>Not recommended upper</th>\n",
       "    </tr>\n",
       "  </thead>\n",
       "  <tbody>\n",
       "    <tr>\n",
       "      <th>0</th>\n",
       "      <td>Newborns</td>\n",
       "      <td>0.00</td>\n",
       "      <td>0.33</td>\n",
       "      <td>11</td>\n",
       "      <td>13</td>\n",
       "      <td>14</td>\n",
       "      <td>17</td>\n",
       "      <td>18</td>\n",
       "      <td>19</td>\n",
       "    </tr>\n",
       "    <tr>\n",
       "      <th>1</th>\n",
       "      <td>Infants</td>\n",
       "      <td>0.33</td>\n",
       "      <td>1.00</td>\n",
       "      <td>10</td>\n",
       "      <td>11</td>\n",
       "      <td>12</td>\n",
       "      <td>15</td>\n",
       "      <td>16</td>\n",
       "      <td>18</td>\n",
       "    </tr>\n",
       "    <tr>\n",
       "      <th>2</th>\n",
       "      <td>Toddlers</td>\n",
       "      <td>1.00</td>\n",
       "      <td>3.00</td>\n",
       "      <td>9</td>\n",
       "      <td>10</td>\n",
       "      <td>11</td>\n",
       "      <td>14</td>\n",
       "      <td>15</td>\n",
       "      <td>16</td>\n",
       "    </tr>\n",
       "    <tr>\n",
       "      <th>3</th>\n",
       "      <td>Preschoolers</td>\n",
       "      <td>3.00</td>\n",
       "      <td>6.00</td>\n",
       "      <td>8</td>\n",
       "      <td>9</td>\n",
       "      <td>10</td>\n",
       "      <td>13</td>\n",
       "      <td>14</td>\n",
       "      <td>15</td>\n",
       "    </tr>\n",
       "    <tr>\n",
       "      <th>4</th>\n",
       "      <td>School-aged children</td>\n",
       "      <td>6.00</td>\n",
       "      <td>12.00</td>\n",
       "      <td>7</td>\n",
       "      <td>8</td>\n",
       "      <td>9</td>\n",
       "      <td>12</td>\n",
       "      <td>12</td>\n",
       "      <td>12</td>\n",
       "    </tr>\n",
       "    <tr>\n",
       "      <th>5</th>\n",
       "      <td>Teenagers</td>\n",
       "      <td>12.00</td>\n",
       "      <td>18.00</td>\n",
       "      <td>7</td>\n",
       "      <td>7</td>\n",
       "      <td>8</td>\n",
       "      <td>10</td>\n",
       "      <td>11</td>\n",
       "      <td>11</td>\n",
       "    </tr>\n",
       "    <tr>\n",
       "      <th>6</th>\n",
       "      <td>Young adults</td>\n",
       "      <td>18.00</td>\n",
       "      <td>25.00</td>\n",
       "      <td>6</td>\n",
       "      <td>6</td>\n",
       "      <td>7</td>\n",
       "      <td>9</td>\n",
       "      <td>11</td>\n",
       "      <td>11</td>\n",
       "    </tr>\n",
       "    <tr>\n",
       "      <th>7</th>\n",
       "      <td>Adults</td>\n",
       "      <td>25.00</td>\n",
       "      <td>65.00</td>\n",
       "      <td>6</td>\n",
       "      <td>6</td>\n",
       "      <td>7</td>\n",
       "      <td>9</td>\n",
       "      <td>10</td>\n",
       "      <td>10</td>\n",
       "    </tr>\n",
       "    <tr>\n",
       "      <th>8</th>\n",
       "      <td>Older adults</td>\n",
       "      <td>65.00</td>\n",
       "      <td>NaN</td>\n",
       "      <td>5</td>\n",
       "      <td>6</td>\n",
       "      <td>7</td>\n",
       "      <td>8</td>\n",
       "      <td>9</td>\n",
       "      <td>9</td>\n",
       "    </tr>\n",
       "  </tbody>\n",
       "</table>\n",
       "</div>"
      ],
      "text/plain": [
       "              Age group  Min age  Max age  Not recommended lower  \\\n",
       "0              Newborns     0.00     0.33                     11   \n",
       "1               Infants     0.33     1.00                     10   \n",
       "2              Toddlers     1.00     3.00                      9   \n",
       "3          Preschoolers     3.00     6.00                      8   \n",
       "4  School-aged children     6.00    12.00                      7   \n",
       "5             Teenagers    12.00    18.00                      7   \n",
       "6          Young adults    18.00    25.00                      6   \n",
       "7                Adults    25.00    65.00                      6   \n",
       "8          Older adults    65.00      NaN                      5   \n",
       "\n",
       "   Approriate lower  Recommended lower  Recommended upper  Appropriate upper  \\\n",
       "0                13                 14                 17                 18   \n",
       "1                11                 12                 15                 16   \n",
       "2                10                 11                 14                 15   \n",
       "3                 9                 10                 13                 14   \n",
       "4                 8                  9                 12                 12   \n",
       "5                 7                  8                 10                 11   \n",
       "6                 6                  7                  9                 11   \n",
       "7                 6                  7                  9                 10   \n",
       "8                 6                  7                  8                  9   \n",
       "\n",
       "   Not recommended upper  \n",
       "0                     19  \n",
       "1                     18  \n",
       "2                     16  \n",
       "3                     15  \n",
       "4                     12  \n",
       "5                     11  \n",
       "6                     11  \n",
       "7                     10  \n",
       "8                      9  "
      ]
     },
     "execution_count": 3,
     "metadata": {},
     "output_type": "execute_result"
    }
   ],
   "source": [
    "df = pd.read_csv('sleep.csv')\n",
    "df"
   ]
  },
  {
   "cell_type": "markdown",
   "metadata": {},
   "source": [
    "### Getting statistical insights into the data"
   ]
  },
  {
   "cell_type": "code",
   "execution_count": 4,
   "metadata": {},
   "outputs": [
    {
     "data": {
      "text/html": [
       "<div>\n",
       "<style scoped>\n",
       "    .dataframe tbody tr th:only-of-type {\n",
       "        vertical-align: middle;\n",
       "    }\n",
       "\n",
       "    .dataframe tbody tr th {\n",
       "        vertical-align: top;\n",
       "    }\n",
       "\n",
       "    .dataframe thead th {\n",
       "        text-align: right;\n",
       "    }\n",
       "</style>\n",
       "<table border=\"1\" class=\"dataframe\">\n",
       "  <thead>\n",
       "    <tr style=\"text-align: right;\">\n",
       "      <th></th>\n",
       "      <th>Min age</th>\n",
       "      <th>Max age</th>\n",
       "      <th>Not recommended lower</th>\n",
       "      <th>Approriate lower</th>\n",
       "      <th>Recommended lower</th>\n",
       "      <th>Recommended upper</th>\n",
       "      <th>Appropriate upper</th>\n",
       "      <th>Not recommended upper</th>\n",
       "    </tr>\n",
       "  </thead>\n",
       "  <tbody>\n",
       "    <tr>\n",
       "      <th>count</th>\n",
       "      <td>9.000000</td>\n",
       "      <td>8.000000</td>\n",
       "      <td>9.000000</td>\n",
       "      <td>9.000000</td>\n",
       "      <td>9.000000</td>\n",
       "      <td>9.000000</td>\n",
       "      <td>9.000000</td>\n",
       "      <td>9.000000</td>\n",
       "    </tr>\n",
       "    <tr>\n",
       "      <th>mean</th>\n",
       "      <td>14.481111</td>\n",
       "      <td>16.291250</td>\n",
       "      <td>7.666667</td>\n",
       "      <td>8.444444</td>\n",
       "      <td>9.444444</td>\n",
       "      <td>11.888889</td>\n",
       "      <td>12.888889</td>\n",
       "      <td>13.444444</td>\n",
       "    </tr>\n",
       "    <tr>\n",
       "      <th>std</th>\n",
       "      <td>20.847019</td>\n",
       "      <td>21.517004</td>\n",
       "      <td>2.000000</td>\n",
       "      <td>2.505549</td>\n",
       "      <td>2.505549</td>\n",
       "      <td>3.100179</td>\n",
       "      <td>3.018462</td>\n",
       "      <td>3.643869</td>\n",
       "    </tr>\n",
       "    <tr>\n",
       "      <th>min</th>\n",
       "      <td>0.000000</td>\n",
       "      <td>0.330000</td>\n",
       "      <td>5.000000</td>\n",
       "      <td>6.000000</td>\n",
       "      <td>7.000000</td>\n",
       "      <td>8.000000</td>\n",
       "      <td>9.000000</td>\n",
       "      <td>9.000000</td>\n",
       "    </tr>\n",
       "    <tr>\n",
       "      <th>25%</th>\n",
       "      <td>1.000000</td>\n",
       "      <td>2.500000</td>\n",
       "      <td>6.000000</td>\n",
       "      <td>6.000000</td>\n",
       "      <td>7.000000</td>\n",
       "      <td>9.000000</td>\n",
       "      <td>11.000000</td>\n",
       "      <td>11.000000</td>\n",
       "    </tr>\n",
       "    <tr>\n",
       "      <th>50%</th>\n",
       "      <td>6.000000</td>\n",
       "      <td>9.000000</td>\n",
       "      <td>7.000000</td>\n",
       "      <td>8.000000</td>\n",
       "      <td>9.000000</td>\n",
       "      <td>12.000000</td>\n",
       "      <td>12.000000</td>\n",
       "      <td>12.000000</td>\n",
       "    </tr>\n",
       "    <tr>\n",
       "      <th>75%</th>\n",
       "      <td>18.000000</td>\n",
       "      <td>19.750000</td>\n",
       "      <td>9.000000</td>\n",
       "      <td>10.000000</td>\n",
       "      <td>11.000000</td>\n",
       "      <td>14.000000</td>\n",
       "      <td>15.000000</td>\n",
       "      <td>16.000000</td>\n",
       "    </tr>\n",
       "    <tr>\n",
       "      <th>max</th>\n",
       "      <td>65.000000</td>\n",
       "      <td>65.000000</td>\n",
       "      <td>11.000000</td>\n",
       "      <td>13.000000</td>\n",
       "      <td>14.000000</td>\n",
       "      <td>17.000000</td>\n",
       "      <td>18.000000</td>\n",
       "      <td>19.000000</td>\n",
       "    </tr>\n",
       "  </tbody>\n",
       "</table>\n",
       "</div>"
      ],
      "text/plain": [
       "         Min age    Max age  Not recommended lower  Approriate lower  \\\n",
       "count   9.000000   8.000000               9.000000          9.000000   \n",
       "mean   14.481111  16.291250               7.666667          8.444444   \n",
       "std    20.847019  21.517004               2.000000          2.505549   \n",
       "min     0.000000   0.330000               5.000000          6.000000   \n",
       "25%     1.000000   2.500000               6.000000          6.000000   \n",
       "50%     6.000000   9.000000               7.000000          8.000000   \n",
       "75%    18.000000  19.750000               9.000000         10.000000   \n",
       "max    65.000000  65.000000              11.000000         13.000000   \n",
       "\n",
       "       Recommended lower  Recommended upper  Appropriate upper  \\\n",
       "count           9.000000           9.000000           9.000000   \n",
       "mean            9.444444          11.888889          12.888889   \n",
       "std             2.505549           3.100179           3.018462   \n",
       "min             7.000000           8.000000           9.000000   \n",
       "25%             7.000000           9.000000          11.000000   \n",
       "50%             9.000000          12.000000          12.000000   \n",
       "75%            11.000000          14.000000          15.000000   \n",
       "max            14.000000          17.000000          18.000000   \n",
       "\n",
       "       Not recommended upper  \n",
       "count               9.000000  \n",
       "mean               13.444444  \n",
       "std                 3.643869  \n",
       "min                 9.000000  \n",
       "25%                11.000000  \n",
       "50%                12.000000  \n",
       "75%                16.000000  \n",
       "max                19.000000  "
      ]
     },
     "execution_count": 4,
     "metadata": {},
     "output_type": "execute_result"
    }
   ],
   "source": [
    "df.describe()"
   ]
  },
  {
   "cell_type": "markdown",
   "metadata": {},
   "source": [
    "### Getting to know about the Null values and data types\n",
    "\n",
    "- `Max Age` contains 1 null value"
   ]
  },
  {
   "cell_type": "code",
   "execution_count": 5,
   "metadata": {},
   "outputs": [
    {
     "name": "stdout",
     "output_type": "stream",
     "text": [
      "<class 'pandas.core.frame.DataFrame'>\n",
      "RangeIndex: 9 entries, 0 to 8\n",
      "Data columns (total 9 columns):\n",
      " #   Column                 Non-Null Count  Dtype  \n",
      "---  ------                 --------------  -----  \n",
      " 0   Age group              9 non-null      object \n",
      " 1   Min age                9 non-null      float64\n",
      " 2   Max age                8 non-null      float64\n",
      " 3   Not recommended lower  9 non-null      int64  \n",
      " 4   Approriate lower       9 non-null      int64  \n",
      " 5   Recommended lower      9 non-null      int64  \n",
      " 6   Recommended upper      9 non-null      int64  \n",
      " 7   Appropriate upper      9 non-null      int64  \n",
      " 8   Not recommended upper  9 non-null      int64  \n",
      "dtypes: float64(2), int64(6), object(1)\n",
      "memory usage: 780.0+ bytes\n"
     ]
    }
   ],
   "source": [
    "df.info()"
   ]
  },
  {
   "cell_type": "markdown",
   "metadata": {},
   "source": [
    "## Answer 1\n",
    "\n",
    "> Constructed group bar plot"
   ]
  },
  {
   "cell_type": "code",
   "execution_count": 6,
   "metadata": {},
   "outputs": [
    {
     "data": {
      "image/png": "[encoded data removed]",
      "text/plain": [
       "<Figure size 640x480 with 1 Axes>"
      ]
     },
     "metadata": {},
     "output_type": "display_data"
    }
   ],
   "source": [
    "df = df.sort_values(by='Min age', ascending=False)\n",
    "\n",
    "age_group = df['Age group']\n",
    "recommended_lower = df['Recommended lower']\n",
    "recommended_upper = df['Recommended upper']\n",
    "\n",
    "# Initialized bar_width and bar_gap between the bars\n",
    "bar_width = 0.3\n",
    "bar_gap = 0.1\n",
    "\n",
    "upper_bar_position = np.arange(len(age_group))\n",
    "lower_bar_position = upper_bar_position + bar_width + bar_gap\n",
    "\n",
    "\n",
    "fig, ax = plt.subplots()\n",
    "\n",
    "\n",
    "ax.barh(upper_bar_position, recommended_lower, height=bar_width, label='Recommended Lower limit', color=BLUE_MEDIUM)\n",
    "ax.barh(lower_bar_position, recommended_upper, height=bar_width, label='Recommended Upper limit', color=BLUE_DARK)\n",
    "\n",
    "ax.set_xlim(0, 18)\n",
    "ax.set_xlabel('Hours')\n",
    "ax.set_yticks((upper_bar_position + lower_bar_position) / 2) # to keep the ticks in the middle of both the bars\n",
    "ax.set_yticklabels(age_group)\n",
    "ax.set_title('National Sleep Foundation\\'s recommended hours of sleep', pad=22)\n",
    "\n",
    "# Defining custom legend\n",
    "ax.text(0.8,9.2,'Recommended lower limit', color=BLUE_MEDIUM)\n",
    "ax.text(10,9.2,'Recommended upper limit', color=BLUE_DARK)\n",
    "plt.show()\n"
   ]
  },
  {
   "cell_type": "markdown",
   "metadata": {},
   "source": [
    "## Answer 2\n",
    "\n",
    "> Connected Dot Plot"
   ]
  },
  {
   "cell_type": "code",
   "execution_count": 9,
   "metadata": {},
   "outputs": [
    {
     "data": {
      "text/plain": [
       "Text(0.5, 1.0, \"National Sleep Foundation's recommended hours of sleep\")"
      ]
     },
     "execution_count": 9,
     "metadata": {},
     "output_type": "execute_result"
    },
    {
     "data": {
      "image/png": "[encoded data removed]",
      "text/plain": [
       "<Figure size 640x480 with 1 Axes>"
      ]
     },
     "metadata": {},
     "output_type": "display_data"
    }
   ],
   "source": [
    "fig, ax = plt.subplots()\n",
    "\n",
    "# Adjust the lines to the edges of points\n",
    "ax.hlines(y=age_group, xmin=df['Recommended lower']+0.085, xmax=df['Recommended upper']-0.085, color=BLUE_DARKEST)\n",
    "ax.scatter(df['Recommended lower'], age_group, color=BLUE_DARK, edgecolors=BLUE_DARKEST, label='Recommended lower')\n",
    "ax.scatter(df['Recommended upper'], age_group, color=BLUE_MEDIUM, edgecolors=BLUE_DARKEST, label='Recommended upper')\n",
    "\n",
    "custom_xticks = [0, 6, 8, 10, 12, 14, 18, 24]\n",
    "ax.set_xticks(custom_xticks)\n",
    "ax.set_xticklabels(custom_xticks)\n",
    "\n",
    "# Adjustments of spines and tick parameters\n",
    "ax.spines.bottom.set_position(('data', 9))\n",
    "ax.spines[['top', 'right', 'left']].set_visible(False)\n",
    "ax.tick_params(axis='x', which='both', labelrotation=0, direction='in', pad=-15)\n",
    "ax.tick_params(axis='y', length=0)\n",
    "ax.set_title('National Sleep Foundation\\'s recommended hours of sleep', pad=50)\n"
   ]
  },
  {
   "cell_type": "markdown",
   "metadata": {},
   "source": [
    "## Answer 3"
   ]
  },
  {
   "cell_type": "code",
   "execution_count": 8,
   "metadata": {},
   "outputs": [],
   "source": [
    "## Marimekko chart"
   ]
  },
  {
   "cell_type": "markdown",
   "metadata": {},
   "source": [
    "## Attributions\n",
    "\n",
    "- Multiple Bar Plots - https://matplotlib.org/2.0.2/examples/api/barchart_demo.html\n",
    "\n",
    "- Connected Dot Plots - https://python-graph-gallery.com/184-lollipop-plot-with-2-groups/\n",
    "\n",
    "- Setting edge colors to points - https://www.tutorialspoint.com/how-to-set-the-border-color-of-the-dots-in-matplotlib-s-scatterplots#:~:text=Plot%20the%20x%20and%20y,figure%2C%20use%20show()%20method.\n",
    "\n",
    "- Adjustment of title padding - https://matplotlib.org/stable/api/_as_gen/matplotlib.axes.Axes.set_title.html\n",
    "\n",
    "- Using Matplotlib text() - https://matplotlib.org/stable/api/_as_gen/matplotlib.pyplot.text.html\n",
    "\n",
    "- Adjustment of tick parameters - https://matplotlib.org/stable/api/_as_gen/matplotlib.axes.Axes.tick_params.html"
   ]
  },
  {
   "cell_type": "markdown",
   "metadata": {},
   "source": []
  }
 ],
 "metadata": {
  "kernelspec": {
   "display_name": "win2024",
   "language": "python",
   "name": "python3"
  },
  "language_info": {
   "codemirror_mode": {
    "name": "ipython",
    "version": 3
   },
   "file_extension": ".py",
   "mimetype": "text/x-python",
   "name": "python",
   "nbconvert_exporter": "python",
   "pygments_lexer": "ipython3",
   "version": "3.12.1"
  }
 },
 "nbformat": 4,
 "nbformat_minor": 2
}
