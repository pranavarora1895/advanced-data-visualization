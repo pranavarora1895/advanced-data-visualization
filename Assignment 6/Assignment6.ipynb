{
 "cells": [
  {
   "cell_type": "markdown",
   "id": "c98134b3-0c1c-41cb-a22f-50f43efdd3bb",
   "metadata": {},
   "source": [
    "Question 1:"
   ]
  },
  {
   "cell_type": "code",
   "execution_count": 9,
   "id": "86124a04",
   "metadata": {},
   "outputs": [],
   "source": [
    "import pandas as pd\n",
    "import matplotlib.pyplot as plt\n",
    "import seaborn as sns\n",
    "import ipywidgets as widgets\n",
    "from ipywidgets import interact"
   ]
  },
  {
   "cell_type": "code",
   "execution_count": 12,
   "id": "73532376-b7b2-4221-800e-6ecfafb51364",
   "metadata": {},
   "outputs": [
    {
     "data": {
      "application/vnd.jupyter.widget-view+json": {
       "model_id": "d4a7d4bd137b4a5ab655ff95d535db29",
       "version_major": 2,
       "version_minor": 0
      },
      "text/plain": [
       "interactive(children=(Dropdown(description='origin', options=('All', 'natural', 'lab'), value='All'), Output()…"
      ]
     },
     "metadata": {},
     "output_type": "display_data"
    }
   ],
   "source": [
    "# Load the data\n",
    "df_1 = pd.read_csv('diamonds.csv')\n",
    "\n",
    "# Define the desired order of clarity levels\n",
    "clarity_order = ['SI2', 'SI1', 'VS2', 'VS1', 'VVS2', 'VVS1', 'IF']\n",
    "\n",
    "# Set the 'clarity' column as categorical with desired order\n",
    "df_1['clarity'] = pd.Categorical(df_1['clarity'], categories=clarity_order, ordered=True)\n",
    "\n",
    "@interact(origin=(['All'] + df_1['type'].unique().tolist()))\n",
    "def update_heatmap(origin):\n",
    "    if origin == 'All':\n",
    "        filtered_df = df_1\n",
    "    else:\n",
    "        filtered_df = df_1[df_1['type'] == origin]\n",
    "    pivot = filtered_df.pivot_table(values='carat', index='colour', columns='clarity', aggfunc='mean', observed=False)\n",
    "    # Fill missing values with 0\n",
    "    pivot.fillna(0, inplace=True)\n",
    "    fig, ax = plt.subplots(figsize=(8, 6))\n",
    "\n",
    "    sns.heatmap(pivot, cmap='mako', fmt=\".1f\")\n"
   ]
  },
  {
   "cell_type": "markdown",
   "id": "8effa135-073e-4841-9dff-a979ce337369",
   "metadata": {},
   "source": [
    "Question 2:"
   ]
  },
  {
   "cell_type": "code",
   "execution_count": 16,
   "id": "6a63ade6-a1b0-4122-94db-9b331cbfb7dd",
   "metadata": {},
   "outputs": [
    {
     "data": {
      "application/vnd.jupyter.widget-view+json": {
       "model_id": "f58cd06ef63b4d458c946465f60a12cc",
       "version_major": 2,
       "version_minor": 0
      },
      "text/plain": [
       "interactive(children=(Dropdown(description='sport', options=('Combined', 'Swimming', 'Wrestling', 'Fencing', '…"
      ]
     },
     "metadata": {},
     "output_type": "display_data"
    }
   ],
   "source": [
    "# Load the data\n",
    "df_2 = pd.read_csv('olympic_athletes.csv')\n",
    "df_2 = df_2.dropna(subset=['Height', 'Weight'])\n",
    "# Filter data for the years 2000 to 2016, Summer season, and Gold medalists\n",
    "df_2 = df_2[(df_2['Year'] >= 2000) & (df_2['Year'] <= 2016) & (df_2['Season'] == 'Summer') & (df_2['Medal'] == 'Gold')]\n",
    "\n",
    "# Drop duplicates based on athlete's name\n",
    "df_2 = df_2.drop_duplicates(subset=['Name'])\n",
    "\n",
    "# Filter data for gold-medal winning athletes in the specified sports categories\n",
    "sports_categories = ['Swimming', 'Wrestling', 'Fencing', 'Athletics', 'Shooting', 'Cycling', 'Rowing', 'Gymnastics']\n",
    "\n",
    "# Function to update visualization based on selected options\n",
    "@interact(sport=['Combined'] + sports_categories, kde=False, display_data=False)\n",
    "def update_visualization(sport, kde, display_data):\n",
    "    \n",
    "    # Filter data based on selected sport\n",
    "    if sport == 'Combined':\n",
    "        filtered_data = df_2[df_2['Sport'].isin(sports_categories)]\n",
    "    else:\n",
    "        filtered_data = df_2[df_2['Sport'] == sport]\n",
    "    \n",
    "    # Create heatmap or contour plot\n",
    "    if kde:\n",
    "        sns.kdeplot(data=filtered_data, x='Weight', y='Height',fill=True,  cmap='Blues')\n",
    "    else:\n",
    "        sns.histplot(data=filtered_data, x='Weight', y='Height', cbar=False, cmap='Blues', binwidth=5)\n",
    "    \n",
    "    # Overlay raw data points if display_data is True\n",
    "    if display_data:\n",
    "        sns.scatterplot(data=filtered_data, x='Weight', y='Height', hue='Sex', legend=True, edgecolor = 'w')\n",
    "    \n",
    "    # Set axes limits and labels\n",
    "    plt.xlim(20, 140)\n",
    "    plt.ylim(130, 220)\n",
    "    plt.xlabel('Weight')\n",
    "    plt.ylabel('Height')\n",
    "    \n",
    "    plt.show()\n"
   ]
  },
  {
   "cell_type": "markdown",
   "id": "2b301746-8004-4a8c-9ebd-42072d222d6f",
   "metadata": {},
   "source": [
    "Question 3:"
   ]
  },
  {
   "cell_type": "code",
   "execution_count": 14,
   "id": "42eecdbd-a0af-4077-a2c6-5ac51c127b9d",
   "metadata": {},
   "outputs": [
    {
     "data": {
      "application/vnd.jupyter.widget-view+json": {
       "model_id": "a728172b40794d8e991a8c5cd4ca7043",
       "version_major": 2,
       "version_minor": 0
      },
      "text/plain": [
       "interactive(children=(Dropdown(description='Year', options=(2017, 2016, 2019, 2015, 2014, 2018, 2013, 2020, 20…"
      ]
     },
     "metadata": {},
     "output_type": "display_data"
    }
   ],
   "source": [
    "# Load the dataset\n",
    "df_3 = pd.read_csv('used_cars.csv')\n",
    "\n",
    "\n",
    "\n",
    "year = widgets.Dropdown(\n",
    "    options = df_3['year'].unique(), description = 'Year', disabled = False\n",
    ")\n",
    "\n",
    "brand = widgets.Dropdown(\n",
    "    options = df_3['brand'].unique(), description = 'Brand', disabled = False\n",
    ")\n",
    "\n",
    "model = widgets.SelectMultiple(\n",
    "    options = df_3['model'].unique(), description = 'Model', disabled = False\n",
    ")\n",
    "\n",
    "def update_brand(*args):\n",
    "    year_dropdown = year.value\n",
    "    brand.options = df_3[df_3['year'] == year_dropdown]['brand'].unique()\n",
    "    update_model()\n",
    "    \n",
    "def update_model(*args):\n",
    "    year_dropdown = year.value\n",
    "    brand_dropdown = brand.value\n",
    "    model.options = df_3[(df_3['year'] == year_dropdown) & (df_3['brand'] == brand_dropdown)]['model'].unique()\n",
    "\n",
    "year.observe(update_brand, names = 'value')\n",
    "brand.observe(update_model, names = 'value')\n",
    "\n",
    "update_model()\n",
    "@interact(year= year, brand=brand, model=model)\n",
    "def plot_used_cars(year, brand, model):\n",
    "    # Filter the dataset based on the selected options\n",
    "    filtered_df = df_3[(df_3['year'] == year) & (df_3['brand'] == brand)]\n",
    "\n",
    "    if model:\n",
    "        filtered_df = filtered_df[filtered_df['model'].isin(model)]\n",
    "    # Plotting\n",
    "    plt.figure(figsize=(10, 6))\n",
    "    sns.scatterplot(filtered_df, x = 'price', y ='mileage', hue='model', palette='tab10', s = 60)\n",
    "    plt.xlabel('Price')\n",
    "    plt.ylabel('Mileage')\n",
    "        \n",
    "\n",
    "    plt.legend(loc = 'upper right', title = 'model')\n",
    "    plt.title(f'{year} {brand}')\n",
    "    plt.show()\n"
   ]
  },
  {
   "cell_type": "code",
   "execution_count": null,
   "id": "c9726a70-4109-4329-8554-19efcbf94bd0",
   "metadata": {},
   "outputs": [],
   "source": []
  }
 ],
 "metadata": {
  "kernelspec": {
   "display_name": "Python 3 (ipykernel)",
   "language": "python",
   "name": "python3"
  },
  "language_info": {
   "codemirror_mode": {
    "name": "ipython",
    "version": 3
   },
   "file_extension": ".py",
   "mimetype": "text/x-python",
   "name": "python",
   "nbconvert_exporter": "python",
   "pygments_lexer": "ipython3",
   "version": "3.12.1"
  }
 },
 "nbformat": 4,
 "nbformat_minor": 5
}
